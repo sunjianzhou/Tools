{
 "cells": [
  {
   "cell_type": "markdown",
   "metadata": {},
   "source": [
    "# ===============第一阶段：数据源获取数据==============="
   ]
  },
  {
   "cell_type": "markdown",
   "metadata": {},
   "source": [
    "# 引入依赖"
   ]
  },
  {
   "cell_type": "code",
   "execution_count": 1,
   "metadata": {},
   "outputs": [],
   "source": [
    "import collections\n",
    "import numpy as np\n",
    "import os\n",
    "import pandas as pd\n",
    "import pymysql\n",
    "import time"
   ]
  },
  {
   "cell_type": "markdown",
   "metadata": {},
   "source": [
    "# 定义需要的工具类，如数据库读取类，数据拼装类"
   ]
  },
  {
   "cell_type": "code",
   "execution_count": 2,
   "metadata": {},
   "outputs": [],
   "source": [
    "class MySQLReader:\n",
    "    \"\"\"Reader for mysql.\"\"\"\n",
    "\n",
    "    def __init__(self, host, port, user, password, database):\n",
    "        \"\"\"Initialize the mysql.\"\"\"\n",
    "        self.mysql = pymysql.connect(host=host,\n",
    "                                     port=port,\n",
    "                                     user=user,\n",
    "                                     password=password,\n",
    "                                     database=database,\n",
    "                                     charset=\"utf8\")\n",
    "        self.cursor = self.mysql.cursor()\n",
    "\n",
    "    def fetch_result(self, sql, fetch_one=False):\n",
    "        \"\"\"Fetch mysql results by received sql.\"\"\"\n",
    "        if not sql:\n",
    "            raise ValueError(\"No sql command detected.\")\n",
    "\n",
    "        self.cursor.execute(sql)\n",
    "        if fetch_one:\n",
    "            return self.cursor.fetchone()\n",
    "        return self.cursor.fetchall()\n",
    "\n",
    "    def mysql_close(self):\n",
    "        \"\"\"Close the connection of db.\"\"\"\n",
    "        self.cursor.close()\n",
    "        self.mysql.close()\n",
    "\n",
    "class DataFormat:\n",
    "    \"\"\"Used for data format.\"\"\"\n",
    "\n",
    "    def __init__(self, cursor=None, db_result=None):\n",
    "        \"\"\"Initialize the db_result.\"\"\"\n",
    "        self.cursor = cursor\n",
    "        self.db_result = db_result\n",
    "\n",
    "    def set_db_result(self, db_result):\n",
    "        \"\"\"Update the db_result.\"\"\"\n",
    "        self.db_result = db_result\n",
    "\n",
    "    def result_to_df(self, cursor=None, db_result=None):\n",
    "        \"\"\"Convert to df.\"\"\"\n",
    "        db_result = db_result if db_result else self.db_result\n",
    "        cursor = cursor if cursor else self.cursor\n",
    "        columns = [col[0] for col in cursor.description]\n",
    "        columns = [column.split(\".\")[-1] for column in columns]\n",
    "        result = [collections.OrderedDict(zip(columns, list(row))) for row in db_result]\n",
    "        return pd.DataFrame(result)\n",
    "\n",
    "    def get_target_columns(self, target_columns_str=None, target_columns_list=None, cursor=None, db_result=None):\n",
    "        \"\"\"Get the target columns.\"\"\"\n",
    "        db_result = db_result if db_result is not None else self.db_result\n",
    "        cursor = cursor if cursor else self.cursor\n",
    "        if not target_columns_list and not target_columns_str:\n",
    "            return self.result_to_df(cursor=cursor, db_result=db_result) if isinstance(db_result, tuple) else db_result\n",
    "\n",
    "        if not target_columns_list:\n",
    "            target_columns_list = target_columns_str.split(\",\")\n",
    "        target_columns_list = [each.strip() for each in target_columns_list]\n",
    "        if isinstance(db_result, pd.DataFrame):\n",
    "            return db_result[target_columns_list]\n",
    "        if isinstance(db_result, tuple):\n",
    "            origin_df = self.result_to_df(cursor, db_result)\n",
    "            return origin_df[target_columns_list]\n",
    "        return db_result"
   ]
  },
  {
   "cell_type": "markdown",
   "metadata": {},
   "source": [
    "# 给定数据库相关信息"
   ]
  },
  {
   "cell_type": "code",
   "execution_count": 3,
   "metadata": {},
   "outputs": [],
   "source": [
    "mysql_host, mysql_port = \"127.0.0.1\", 3306\n",
    "user, password = \"root\", \"root\"\n",
    "database = \"test\"\n",
    "mysql_ins = MySQLReader(mysql_host, mysql_port, user, password, database)"
   ]
  },
  {
   "cell_type": "markdown",
   "metadata": {},
   "source": [
    "# 给定语句，查询结果"
   ]
  },
  {
   "cell_type": "code",
   "execution_count": 4,
   "metadata": {},
   "outputs": [],
   "source": [
    "sql_command = \"select * from sample_data;\"\n",
    "table_infos = mysql_ins.fetch_result(sql_command)\n",
    "\n",
    "data_ins = DataFormat(mysql_ins.cursor, table_infos)\n",
    "format_data_df = data_ins.result_to_df()"
   ]
  },
  {
   "cell_type": "code",
   "execution_count": 5,
   "metadata": {},
   "outputs": [
    {
     "data": {
      "text/html": [
       "<div>\n",
       "<style scoped>\n",
       "    .dataframe tbody tr th:only-of-type {\n",
       "        vertical-align: middle;\n",
       "    }\n",
       "\n",
       "    .dataframe tbody tr th {\n",
       "        vertical-align: top;\n",
       "    }\n",
       "\n",
       "    .dataframe thead th {\n",
       "        text-align: right;\n",
       "    }\n",
       "</style>\n",
       "<table border=\"1\" class=\"dataframe\">\n",
       "  <thead>\n",
       "    <tr style=\"text-align: right;\">\n",
       "      <th></th>\n",
       "      <th>int_column_one</th>\n",
       "      <th>id</th>\n",
       "      <th>str_column_one</th>\n",
       "      <th>double_column_one</th>\n",
       "      <th>int_column_two</th>\n",
       "      <th>data_type</th>\n",
       "    </tr>\n",
       "  </thead>\n",
       "  <tbody>\n",
       "    <tr>\n",
       "      <th>0</th>\n",
       "      <td>1</td>\n",
       "      <td>1</td>\n",
       "      <td>str_one</td>\n",
       "      <td>10.0</td>\n",
       "      <td>2</td>\n",
       "      <td>0</td>\n",
       "    </tr>\n",
       "    <tr>\n",
       "      <th>1</th>\n",
       "      <td>2</td>\n",
       "      <td>2</td>\n",
       "      <td>str_two</td>\n",
       "      <td>20.0</td>\n",
       "      <td>4</td>\n",
       "      <td>0</td>\n",
       "    </tr>\n",
       "    <tr>\n",
       "      <th>2</th>\n",
       "      <td>3</td>\n",
       "      <td>3</td>\n",
       "      <td>str_three</td>\n",
       "      <td>30.0</td>\n",
       "      <td>6</td>\n",
       "      <td>1</td>\n",
       "    </tr>\n",
       "    <tr>\n",
       "      <th>3</th>\n",
       "      <td>4</td>\n",
       "      <td>4</td>\n",
       "      <td>str_four</td>\n",
       "      <td>40.0</td>\n",
       "      <td>8</td>\n",
       "      <td>1</td>\n",
       "    </tr>\n",
       "  </tbody>\n",
       "</table>\n",
       "</div>"
      ],
      "text/plain": [
       "   int_column_one  id str_column_one  double_column_one  int_column_two  \\\n",
       "0               1   1        str_one               10.0               2   \n",
       "1               2   2        str_two               20.0               4   \n",
       "2               3   3      str_three               30.0               6   \n",
       "3               4   4       str_four               40.0               8   \n",
       "\n",
       "   data_type  \n",
       "0          0  \n",
       "1          0  \n",
       "2          1  \n",
       "3          1  "
      ]
     },
     "execution_count": 5,
     "metadata": {},
     "output_type": "execute_result"
    }
   ],
   "source": [
    "format_data_df"
   ]
  },
  {
   "cell_type": "markdown",
   "metadata": {},
   "source": [
    "# Optional: 选择目标列，进行简单过滤"
   ]
  },
  {
   "cell_type": "code",
   "execution_count": 6,
   "metadata": {},
   "outputs": [
    {
     "name": "stdout",
     "output_type": "stream",
     "text": [
      "   int_column_one  double_column_one  int_column_two  data_type\n",
      "0               1               10.0               2          0\n",
      "1               2               20.0               4          0\n",
      "2               3               30.0               6          1\n",
      "3               4               40.0               8          1\n",
      "====================================================================================================\n",
      "   int_column_one  double_column_one  int_column_two  data_type\n",
      "0               1               10.0               2          0\n",
      "1               2               20.0               4          0\n",
      "2               3               30.0               6          1\n",
      "3               4               40.0               8          1\n"
     ]
    }
   ],
   "source": [
    "# 以下两种方式都可以，如果前面在sql中已经过滤完了，那么这里可以跳过\n",
    "target_columns_str = \"int_column_one,double_column_one, int_column_two,data_type\"  # 字符串形式，中间有无空格都行，逗号隔开即可。\n",
    "format_data_df = data_ins.get_target_columns(target_columns_str=target_columns_str, db_result=format_data_df)\n",
    "print(format_data_df, end=\"\\n\")\n",
    "print(\"=\" * 100)\n",
    "target_columns_list = [\"int_column_one\", \"double_column_one\", \"int_column_two\", \"data_type\"]  # 列表形式\n",
    "format_data_df = data_ins.get_target_columns(target_columns_list=target_columns_list, db_result=format_data_df)\n",
    "print(format_data_df)"
   ]
  },
  {
   "cell_type": "markdown",
   "metadata": {},
   "source": [
    "# 关闭数据库连接"
   ]
  },
  {
   "cell_type": "code",
   "execution_count": 7,
   "metadata": {},
   "outputs": [],
   "source": [
    "mysql_ins.mysql_close()"
   ]
  },
  {
   "cell_type": "markdown",
   "metadata": {},
   "source": [
    "# ===============第二阶段：数据简单加工处理==============="
   ]
  },
  {
   "cell_type": "code",
   "execution_count": 8,
   "metadata": {},
   "outputs": [
    {
     "data": {
      "text/html": [
       "<div>\n",
       "<style scoped>\n",
       "    .dataframe tbody tr th:only-of-type {\n",
       "        vertical-align: middle;\n",
       "    }\n",
       "\n",
       "    .dataframe tbody tr th {\n",
       "        vertical-align: top;\n",
       "    }\n",
       "\n",
       "    .dataframe thead th {\n",
       "        text-align: right;\n",
       "    }\n",
       "</style>\n",
       "<table border=\"1\" class=\"dataframe\">\n",
       "  <thead>\n",
       "    <tr style=\"text-align: right;\">\n",
       "      <th></th>\n",
       "      <th>int_column_one</th>\n",
       "      <th>double_column_one</th>\n",
       "      <th>int_column_two</th>\n",
       "      <th>data_type</th>\n",
       "      <th>new_one</th>\n",
       "      <th>new_two</th>\n",
       "      <th>new_three</th>\n",
       "    </tr>\n",
       "  </thead>\n",
       "  <tbody>\n",
       "    <tr>\n",
       "      <th>0</th>\n",
       "      <td>1</td>\n",
       "      <td>10.0</td>\n",
       "      <td>2</td>\n",
       "      <td>0</td>\n",
       "      <td>1</td>\n",
       "      <td>2.0</td>\n",
       "      <td>0.25</td>\n",
       "    </tr>\n",
       "    <tr>\n",
       "      <th>1</th>\n",
       "      <td>2</td>\n",
       "      <td>20.0</td>\n",
       "      <td>4</td>\n",
       "      <td>0</td>\n",
       "      <td>4</td>\n",
       "      <td>4.0</td>\n",
       "      <td>-0.25</td>\n",
       "    </tr>\n",
       "    <tr>\n",
       "      <th>2</th>\n",
       "      <td>3</td>\n",
       "      <td>30.0</td>\n",
       "      <td>6</td>\n",
       "      <td>1</td>\n",
       "      <td>9</td>\n",
       "      <td>6.0</td>\n",
       "      <td>0.25</td>\n",
       "    </tr>\n",
       "    <tr>\n",
       "      <th>3</th>\n",
       "      <td>4</td>\n",
       "      <td>40.0</td>\n",
       "      <td>8</td>\n",
       "      <td>1</td>\n",
       "      <td>16</td>\n",
       "      <td>8.0</td>\n",
       "      <td>-0.25</td>\n",
       "    </tr>\n",
       "  </tbody>\n",
       "</table>\n",
       "</div>"
      ],
      "text/plain": [
       "   int_column_one  double_column_one  int_column_two  data_type  new_one  \\\n",
       "0               1               10.0               2          0        1   \n",
       "1               2               20.0               4          0        4   \n",
       "2               3               30.0               6          1        9   \n",
       "3               4               40.0               8          1       16   \n",
       "\n",
       "   new_two  new_three  \n",
       "0      2.0       0.25  \n",
       "1      4.0      -0.25  \n",
       "2      6.0       0.25  \n",
       "3      8.0      -0.25  "
      ]
     },
     "execution_count": 8,
     "metadata": {},
     "output_type": "execute_result"
    }
   ],
   "source": [
    "# 视情况增加新列\n",
    "# 自身平方\n",
    "format_data_df[\"new_one\"] = format_data_df[\"int_column_one\"].map(lambda x: x**2)\n",
    "# 两列相交互\n",
    "format_data_df[\"new_two\"] = format_data_df.apply(lambda x: x['int_column_one'] + 0.1 * x['double_column_one'], axis=1)\n",
    "# 对数据进行分组后再做计算，比如按data_type进行分组，然后随意：（本组均值-当前值）/本组总数量\n",
    "format_data_df[\"new_three\"] = format_data_df.groupby('data_type')['int_column_one'].transform(\n",
    "    lambda x: (x.mean() - x) / x.count())\n",
    "format_data_df"
   ]
  },
  {
   "cell_type": "markdown",
   "metadata": {},
   "source": [
    "# Optional:数据结果保存至本地文件"
   ]
  },
  {
   "cell_type": "code",
   "execution_count": 9,
   "metadata": {},
   "outputs": [],
   "source": [
    "# 这里文件名以时间戳.csv的格式来保存，可以自行修改。\n",
    "file_name = time.strftime(\"%Y_%m%d_%H%M\", time.localtime(time.time())) + \".csv\"\n",
    "data_path = os.path.join(os.getcwd(), file_name)  # 保存在当前脚本的同目录下\n",
    "format_data_df.to_csv(data_path, index=None, encoding='utf-8')"
   ]
  },
  {
   "cell_type": "markdown",
   "metadata": {},
   "source": [
    "# Optional: 对应的读数据"
   ]
  },
  {
   "cell_type": "code",
   "execution_count": 10,
   "metadata": {},
   "outputs": [
    {
     "data": {
      "text/html": [
       "<div>\n",
       "<style scoped>\n",
       "    .dataframe tbody tr th:only-of-type {\n",
       "        vertical-align: middle;\n",
       "    }\n",
       "\n",
       "    .dataframe tbody tr th {\n",
       "        vertical-align: top;\n",
       "    }\n",
       "\n",
       "    .dataframe thead th {\n",
       "        text-align: right;\n",
       "    }\n",
       "</style>\n",
       "<table border=\"1\" class=\"dataframe\">\n",
       "  <thead>\n",
       "    <tr style=\"text-align: right;\">\n",
       "      <th></th>\n",
       "      <th>int_column_one</th>\n",
       "      <th>double_column_one</th>\n",
       "      <th>int_column_two</th>\n",
       "      <th>data_type</th>\n",
       "      <th>new_one</th>\n",
       "      <th>new_two</th>\n",
       "      <th>new_three</th>\n",
       "    </tr>\n",
       "  </thead>\n",
       "  <tbody>\n",
       "    <tr>\n",
       "      <th>0</th>\n",
       "      <td>1</td>\n",
       "      <td>10.0</td>\n",
       "      <td>2</td>\n",
       "      <td>0</td>\n",
       "      <td>1</td>\n",
       "      <td>2.0</td>\n",
       "      <td>0.25</td>\n",
       "    </tr>\n",
       "    <tr>\n",
       "      <th>1</th>\n",
       "      <td>2</td>\n",
       "      <td>20.0</td>\n",
       "      <td>4</td>\n",
       "      <td>0</td>\n",
       "      <td>4</td>\n",
       "      <td>4.0</td>\n",
       "      <td>-0.25</td>\n",
       "    </tr>\n",
       "    <tr>\n",
       "      <th>2</th>\n",
       "      <td>3</td>\n",
       "      <td>30.0</td>\n",
       "      <td>6</td>\n",
       "      <td>1</td>\n",
       "      <td>9</td>\n",
       "      <td>6.0</td>\n",
       "      <td>0.25</td>\n",
       "    </tr>\n",
       "    <tr>\n",
       "      <th>3</th>\n",
       "      <td>4</td>\n",
       "      <td>40.0</td>\n",
       "      <td>8</td>\n",
       "      <td>1</td>\n",
       "      <td>16</td>\n",
       "      <td>8.0</td>\n",
       "      <td>-0.25</td>\n",
       "    </tr>\n",
       "  </tbody>\n",
       "</table>\n",
       "</div>"
      ],
      "text/plain": [
       "   int_column_one  double_column_one  int_column_two  data_type  new_one  \\\n",
       "0               1               10.0               2          0        1   \n",
       "1               2               20.0               4          0        4   \n",
       "2               3               30.0               6          1        9   \n",
       "3               4               40.0               8          1       16   \n",
       "\n",
       "   new_two  new_three  \n",
       "0      2.0       0.25  \n",
       "1      4.0      -0.25  \n",
       "2      6.0       0.25  \n",
       "3      8.0      -0.25  "
      ]
     },
     "execution_count": 10,
     "metadata": {},
     "output_type": "execute_result"
    }
   ],
   "source": [
    "format_data_df = pd.read_csv(file_name)\n",
    "format_data_df"
   ]
  },
  {
   "cell_type": "markdown",
   "metadata": {},
   "source": [
    "# ===============第三阶段：可视化展示==============="
   ]
  },
  {
   "cell_type": "code",
   "execution_count": 11,
   "metadata": {},
   "outputs": [],
   "source": [
    "# 以浮框形式展示，默认是在控制台输出\n",
    "# %matplotlib tk"
   ]
  },
  {
   "cell_type": "markdown",
   "metadata": {},
   "source": [
    "# 画图相关的包"
   ]
  },
  {
   "cell_type": "code",
   "execution_count": 12,
   "metadata": {},
   "outputs": [],
   "source": [
    "import matplotlib as mpl\n",
    "import matplotlib.pyplot as plt\n",
    "from matplotlib.pyplot import MultipleLocator"
   ]
  },
  {
   "cell_type": "markdown",
   "metadata": {},
   "source": [
    "# 一些通用的设置"
   ]
  },
  {
   "cell_type": "code",
   "execution_count": 13,
   "metadata": {},
   "outputs": [],
   "source": [
    "# 目的为了能展示中文字符\n",
    "mpl.rcParams['font.sans-serif'] = ['SimHei']\n",
    "mpl.rcParams['axes.unicode_minus'] = False"
   ]
  },
  {
   "cell_type": "markdown",
   "metadata": {},
   "source": [
    "# 柱状图(一)：同一行数据落到相同柱子上"
   ]
  },
  {
   "cell_type": "code",
   "execution_count": 14,
   "metadata": {},
   "outputs": [
    {
     "data": {
      "image/png": "[encoded data removed]",
      "text/plain": [
       "<Figure size 432x288 with 1 Axes>"
      ]
     },
     "metadata": {
      "needs_background": "light"
     },
     "output_type": "display_data"
    }
   ],
   "source": [
    "def autolabel(*rects):\n",
    "    temp = [[each.get_height() for each in rect] for rect in rects]\n",
    "    temp = np.array(temp).T   # 转置是为了横向比较每根柱子谁最高\n",
    "    heights = [max(each) for each in temp]  # 找出最高，只标记最高\n",
    "    for rect in rects:\n",
    "        for idx in range(len(rects[0])):\n",
    "            height = heights[idx]\n",
    "            plt.text(rect[idx].get_x()+rect[idx].get_width()/2.-0.1, 1.05*height, f'{height}')\n",
    "\n",
    "bar_width = 0.5\n",
    "rows, columns = format_data_df.shape\n",
    "x_points = np.array([each+1 for each in np.arange(rows).tolist()])\n",
    "bar_1 = plt.bar(x_points, format_data_df[\"new_one\"], color=\"y\", label=\"new_one\", width=bar_width)\n",
    "bar_2 = plt.bar(x_points, format_data_df[\"new_two\"], color=\"r\", label=\"new_two\",width=bar_width)\n",
    "bar_3 = plt.bar(x_points, format_data_df[\"new_three\"], color=\"blue\", label=\"new_three\", width=bar_width)\n",
    "# 显示高度\n",
    "autolabel(bar_1, bar_2, bar_3)\n",
    "# 加上标注，明确指定放在右下角，默认左上角\n",
    "plt.legend(loc=\"lower right\")  \n",
    "# 边框美化，去掉右侧和上侧\n",
    "ax = plt.gca() \n",
    "ax.spines[\"right\"].set_color(\"w\")\n",
    "ax.spines[\"top\"].set_color(\"w\") \n",
    "# 添加坐标轴名称\n",
    "plt.title(f\"{file_name}对应柱状图\")\n",
    "plt.xlabel(\"X轴标题\")\n",
    "plt.ylabel(\"Y轴标题\")\n",
    "# plt.savefig(file_name.split(\".\")[0] + \"柱状图.jpg\")  # 这个是为了能保存下来图片\n",
    "plt.show()"
   ]
  },
  {
   "cell_type": "markdown",
   "metadata": {},
   "source": [
    "# 柱状图(二)：同一行数据呈并列柱子"
   ]
  },
  {
   "cell_type": "code",
   "execution_count": 15,
   "metadata": {},
   "outputs": [
    {
     "name": "stdout",
     "output_type": "stream",
     "text": [
      "[[1, 4, 9, 16], [2.0, 4.0, 6.0, 8.0], [0.25, -0.25, 0.25, -0.25]]\n"
     ]
    },
    {
     "data": {
      "image/png": "[encoded data removed]",
      "text/plain": [
       "<Figure size 432x288 with 1 Axes>"
      ]
     },
     "metadata": {
      "needs_background": "light"
     },
     "output_type": "display_data"
    }
   ],
   "source": [
    "def autolabel(*rects):\n",
    "    heights = [[each.get_height() for each in rect] for rect in rects]\n",
    "    print(heights)\n",
    "    for idx_x in range(len(rects)):\n",
    "        rect = rects[idx_x]\n",
    "        for idx_y in range(len(rect)):\n",
    "            height = heights[idx_x][idx_y]\n",
    "            plt.text(rect[idx_y].get_x()+rect[idx_y].get_width()/2.-0.1, 0.5 + height, f'{height}')\n",
    "\n",
    "bar_width = 0.2\n",
    "rows, columns = format_data_df.shape\n",
    "x_points = np.array([each+1 for each in np.arange(rows).tolist()])\n",
    "bar_1 = plt.bar(x_points, format_data_df[\"new_one\"], color=\"y\", label=\"new_one\", width=bar_width)\n",
    "bar_2 = plt.bar(x_points+bar_width, format_data_df[\"new_two\"], color=\"r\", label=\"new_two\",width=bar_width)\n",
    "bar_3 = plt.bar(x_points+2*bar_width, format_data_df[\"new_three\"], color=\"blue\", label=\"new_three\", width=bar_width)\n",
    "#设定X轴和Y轴的刻度间隔\n",
    "ax = plt.gca()  # ax为两条坐标轴的实例\n",
    "x_major_locator = MultipleLocator(1)\n",
    "y_major_locator = MultipleLocator(2)\n",
    "ax.xaxis.set_major_locator(x_major_locator)\n",
    "ax.yaxis.set_major_locator(y_major_locator)\n",
    "# 显示高度\n",
    "autolabel(bar_1, bar_2, bar_3)\n",
    "# 显示标签\n",
    "plt.legend()\n",
    "# 边框美化，去掉右侧和上侧\n",
    "ax = plt.gca() \n",
    "ax.spines[\"right\"].set_color(\"w\")\n",
    "ax.spines[\"top\"].set_color(\"w\") \n",
    "# 添加坐标轴名称\n",
    "plt.title(f\"{file_name}对应柱状图\")\n",
    "plt.xlabel(\"X轴标题\")\n",
    "plt.ylabel(\"Y轴标题\")\n",
    "plt.show()"
   ]
  },
  {
   "cell_type": "markdown",
   "metadata": {},
   "source": [
    "# 折线图"
   ]
  },
  {
   "cell_type": "code",
   "execution_count": 16,
   "metadata": {},
   "outputs": [
    {
     "data": {
      "image/png": "[encoded data removed]",
      "text/plain": [
       "<Figure size 432x288 with 1 Axes>"
      ]
     },
     "metadata": {
      "needs_background": "light"
     },
     "output_type": "display_data"
    }
   ],
   "source": [
    "def autolabel(x, *ys):\n",
    "    for y in ys:\n",
    "        for x_point, y_point in zip(x, y):\n",
    "            plt.text(x_point, y_point + 0.5, str(y_point), ha='center', va='bottom', fontsize=10, rotation=0)\n",
    "\n",
    "ax = plt.gca()  # ax为两条坐标轴的实例\n",
    "x_points = np.array([each+1 for each in np.arange(rows).tolist()])\n",
    "\n",
    "ax.plot(x_points, format_data_df[\"new_one\"], \"*-\", color=\"y\", label=\"new_one\")\n",
    "ax.plot(x_points, format_data_df[\"new_two\"], \".-\", color=\"r\", label=\"new_two\")\n",
    "ax.plot(x_points, format_data_df[\"new_three\"], \"s-\", color=\"b\", label=\"new_three\")\n",
    "\n",
    "# 设定坐标轴标题以及图标题\n",
    "ax.set(xlabel=\"X轴标题\", ylabel=\"Y轴标题\", title=f\"{file_name}对应折线图\")\n",
    "# 添加网格\n",
    "ax.grid()\n",
    "# 显示高度\n",
    "autolabel(x_points, format_data_df[\"new_one\"], format_data_df[\"new_two\"], format_data_df[\"new_three\"])  # 在各点上标记上出Y值\n",
    "# 显示标签\n",
    "plt.legend()\n",
    "# plt.savefig(file_name.split(\".\")[0] + \"折线图.jpg\")  # 这个是为了能保存下来图片\n",
    "plt.show()"
   ]
  },
  {
   "cell_type": "code",
   "execution_count": null,
   "metadata": {},
   "outputs": [],
   "source": []
  }
 ],
 "metadata": {
  "kernelspec": {
   "display_name": "Python 3",
   "language": "python",
   "name": "python3"
  },
  "language_info": {
   "codemirror_mode": {
    "name": "ipython",
    "version": 3
   },
   "file_extension": ".py",
   "mimetype": "text/x-python",
   "name": "python",
   "nbconvert_exporter": "python",
   "pygments_lexer": "ipython3",
   "version": "3.8.5"
  }
 },
 "nbformat": 4,
 "nbformat_minor": 4
}
